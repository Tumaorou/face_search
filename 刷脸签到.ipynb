{
 "cells": [
  {
   "cell_type": "code",
   "execution_count": 1,
   "metadata": {
    "collapsed": true
   },
   "outputs": [],
   "source": [
    "from aip import AipFace\n",
    "\n",
    "\"\"\" 你的 APPID AK SK \"\"\"\n",
    "APP_ID = '15072858'\n",
    "API_KEY = 'a3Z3PWaqeNxvQRvAEzene57L'\n",
    "SECRET_KEY = 'ZdEzGQ5ayasuLrDdb6iIAyQmNUaAH07a'\n",
    "\n",
    "client = AipFace(APP_ID, API_KEY, SECRET_KEY)"
   ]
  },
  {
   "cell_type": "code",
   "execution_count": 2,
   "metadata": {
    "collapsed": true
   },
   "outputs": [],
   "source": [
    "#获取百度token（可以理解为密钥）\n",
    "def get_token(API_KEY, SECRET_KEY):\n",
    "    import requests\n",
    "    import json\n",
    "\n",
    "    payload = {\n",
    "        'grant_type': 'client_credentials', \n",
    "        'client_id': '{}'.format(API_KEY),\n",
    "        'client_secret': '{}'.format(SECRET_KEY)\n",
    "    }\n",
    "\n",
    "    r = requests.post(\"https://aip.baidubce.com/oauth/2.0/token\", data=payload)\n",
    "    \n",
    "    return (r.json()['access_token'])"
   ]
  },
  {
   "cell_type": "code",
   "execution_count": 3,
   "metadata": {},
   "outputs": [
    {
     "data": {
      "text/plain": [
       "{'cached': 0,\n",
       " 'error_code': 223105,\n",
       " 'error_msg': 'face is already exist',\n",
       " 'log_id': 744193249408435761,\n",
       " 'result': None,\n",
       " 'timestamp': 1544940843}"
      ]
     },
     "execution_count": 3,
     "metadata": {},
     "output_type": "execute_result"
    }
   ],
   "source": [
    "#上传图片到人脸库\n",
    "image = \"https://raw.githubusercontent.com/Tumaorou/face_sign_in/master/yao_ming.jpg\"\n",
    "\n",
    "imageType = \"URL\"\n",
    "\n",
    "groupId = \"test_group\"#用户组\n",
    "\n",
    "userId = \"yao_ming\"#用户名，一个用户可注册多张图片\n",
    "\n",
    "\"\"\" 如果有可选参数 \"\"\"\n",
    "options = {}\n",
    "options[\"user_info\"] = \"user's info\"\n",
    "options[\"quality_control\"] = \"NONE\"\n",
    "options[\"liveness_control\"] = \"LOW\"\n",
    "\n",
    "\"\"\" 带参数调用人脸注册 \"\"\"\n",
    "client.addUser(image, imageType, groupId, userId, options)"
   ]
  },
  {
   "cell_type": "code",
   "execution_count": 9,
   "metadata": {},
   "outputs": [
    {
     "data": {
      "text/plain": [
       "{'cached': 0,\n",
       " 'error_code': 0,\n",
       " 'error_msg': 'SUCCESS',\n",
       " 'log_id': 744193249409478861,\n",
       " 'result': {'user_id_list': ['zhu_feng', 'yao_ming']},\n",
       " 'timestamp': 1544940947}"
      ]
     },
     "execution_count": 9,
     "metadata": {},
     "output_type": "execute_result"
    }
   ],
   "source": [
    "#获取用户列表\n",
    "client.getGroupUsers(groupId)"
   ]
  },
  {
   "cell_type": "code",
   "execution_count": 12,
   "metadata": {},
   "outputs": [
    {
     "data": {
      "text/plain": [
       "{'cached': 0,\n",
       " 'error_code': 0,\n",
       " 'error_msg': 'SUCCESS',\n",
       " 'log_id': 744193249410031491,\n",
       " 'result': {'face_list': [{'ctime': '2018-12-16 13:53:02',\n",
       "    'face_token': 'a0995896f6773b08a3620ddd229d8344'}]},\n",
       " 'timestamp': 1544941003}"
      ]
     },
     "execution_count": 12,
     "metadata": {},
     "output_type": "execute_result"
    }
   ],
   "source": [
    "#获取用户人脸列表\n",
    "client.faceGetlist('zhu_feng', groupId)"
   ]
  },
  {
   "cell_type": "code",
   "execution_count": 5,
   "metadata": {
    "collapsed": true
   },
   "outputs": [],
   "source": [
    "#人脸搜索\n",
    "def search_face(API_KEY, SECRET_KEY, img_url):\n",
    "    import requests\n",
    "    import json\n",
    "    \n",
    "    access_token = str(get_token(API_KEY, SECRET_KEY))\n",
    "    \n",
    "    payload = {\n",
    "        'image': '{}'.format(img_url),\n",
    "        'image_type' : 'URL',\n",
    "        'group_id_list': 'test_group',#从指定的group中进行查找 用逗号分隔，上限10个\n",
    "        \"max_face_num\" : 5,#最多处理人脸的数目，默认值为1(仅检测图片中面积最大的那个人脸) 最大值10\n",
    "    }\n",
    "\n",
    "    r = requests.post('https://aip.baidubce.com/rest/2.0/face/v3/search?access_token='+ access_token, params=payload)\n",
    "\n",
    "    return (r.json())"
   ]
  },
  {
   "cell_type": "code",
   "execution_count": 6,
   "metadata": {
    "collapsed": true
   },
   "outputs": [],
   "source": [
    "#填写需要查找的图片地址\n",
    "img_url = 'https://raw.githubusercontent.com/Tumaorou/face_sign_in/master/group.jpg'"
   ]
  },
  {
   "cell_type": "markdown",
   "metadata": {},
   "source": [
    "<img src=\"https://raw.githubusercontent.com/Tumaorou/face_sign_in/master/group.jpg\" width=\"400\" align=center />"
   ]
  },
  {
   "cell_type": "code",
   "execution_count": 7,
   "metadata": {},
   "outputs": [
    {
     "data": {
      "text/plain": [
       "{'cached': 0,\n",
       " 'error_code': 0,\n",
       " 'error_msg': 'SUCCESS',\n",
       " 'log_id': 744193249408630581,\n",
       " 'result': {'face_token': '2ee12854f31f8c0700ea9aae8fbc940d',\n",
       "  'user_list': [{'group_id': 'test_group',\n",
       "    'score': 16.384712219238,\n",
       "    'user_id': 'yao_ming',\n",
       "    'user_info': \"user's info\"}]},\n",
       " 'timestamp': 1544940863}"
      ]
     },
     "execution_count": 7,
     "metadata": {},
     "output_type": "execute_result"
    }
   ],
   "source": [
    "search_face(API_KEY,SECRET_KEY,img_url)"
   ]
  },
  {
   "cell_type": "code",
   "execution_count": null,
   "metadata": {
    "collapsed": true
   },
   "outputs": [],
   "source": []
  }
 ],
 "metadata": {
  "kernelspec": {
   "display_name": "Python 3",
   "language": "python",
   "name": "python3"
  },
  "language_info": {
   "codemirror_mode": {
    "name": "ipython",
    "version": 3
   },
   "file_extension": ".py",
   "mimetype": "text/x-python",
   "name": "python",
   "nbconvert_exporter": "python",
   "pygments_lexer": "ipython3",
   "version": "3.6.1"
  }
 },
 "nbformat": 4,
 "nbformat_minor": 2
}
