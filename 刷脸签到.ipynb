{
 "cells": [
  {
   "cell_type": "code",
   "execution_count": null,
   "metadata": {
    "collapsed": true
   },
   "outputs": [],
   "source": [
    "from aip import AipFace\n",
    "\n",
    "\"\"\" 你的 APPID AK SK \"\"\"\n",
    "APP_ID = '15072858'\n",
    "API_KEY = 'a3Z3PWaqeNxvQRvAEzene57L'\n",
    "SECRET_KEY = 'ZdEzGQ5ayasuLrDdb6iIAyQmNUaAH07a'\n",
    "\n",
    "client = AipFace(APP_ID, API_KEY, SECRET_KEY)"
   ]
  },
  {
   "cell_type": "code",
   "execution_count": null,
   "metadata": {
    "collapsed": true
   },
   "outputs": [],
   "source": [
    "#获取百度token（可以理解为密钥）\n",
    "def get_token(API_KEY, SECRET_KEY):\n",
    "    import requests\n",
    "    import json\n",
    "\n",
    "    payload = {\n",
    "        'grant_type': 'client_credentials', \n",
    "        'client_id': '{}'.format(API_KEY),\n",
    "        'client_secret': '{}'.format(SECRET_KEY)\n",
    "    }\n",
    "\n",
    "    r = requests.post(\"https://aip.baidubce.com/oauth/2.0/token\", data=payload)\n",
    "    \n",
    "    return (r.json()['access_token'])"
   ]
  },
  {
   "cell_type": "code",
   "execution_count": null,
   "metadata": {},
   "outputs": [],
   "source": [
    "#上传图片到人脸库\n",
    "image = \"https://raw.githubusercontent.com/Tumaorou/face_search/master/yao_ming.jpg\"\n",
    "\n",
    "imageType = \"URL\"\n",
    "\n",
    "groupId = \"test_group\"#用户组\n",
    "\n",
    "userId = \"yao_ming\"#用户名，一个用户可注册多张图片\n",
    "\n",
    "\"\"\" 如果有可选参数 \"\"\"\n",
    "options = {}\n",
    "options[\"user_info\"] = \"user's info\"\n",
    "options[\"quality_control\"] = \"NONE\"\n",
    "options[\"liveness_control\"] = \"LOW\"\n",
    "\n",
    "\"\"\" 带参数调用人脸注册 \"\"\"\n",
    "client.addUser(image, imageType, groupId, userId, options)"
   ]
  },
  {
   "cell_type": "code",
   "execution_count": null,
   "metadata": {},
   "outputs": [],
   "source": [
    "#获取用户列表\n",
    "client.getGroupUsers(groupId)"
   ]
  },
  {
   "cell_type": "code",
   "execution_count": null,
   "metadata": {},
   "outputs": [],
   "source": [
    "#获取用户人脸列表\n",
    "client.faceGetlist('zhu_feng', groupId)"
   ]
  },
  {
   "cell_type": "code",
   "execution_count": null,
   "metadata": {
    "collapsed": true
   },
   "outputs": [],
   "source": [
    "#人脸搜索\n",
    "def search_face(API_KEY, SECRET_KEY, img_url):\n",
    "    import requests\n",
    "    import json\n",
    "    \n",
    "    access_token = str(get_token(API_KEY, SECRET_KEY))\n",
    "    \n",
    "    payload = {\n",
    "        'image': '{}'.format(img_url),\n",
    "        'image_type' : 'URL',\n",
    "        'group_id_list': 'test_group',#从指定的group中进行查找 用逗号分隔，上限10个\n",
    "        \"max_face_num\" : 5,#最多处理人脸的数目，默认值为1(仅检测图片中面积最大的那个人脸) 最大值10\n",
    "    }\n",
    "\n",
    "    r = requests.post('https://aip.baidubce.com/rest/2.0/face/v3/search?access_token='+ access_token, params=payload)\n",
    "\n",
    "    return (r.json())"
   ]
  },
  {
   "cell_type": "code",
   "execution_count": null,
   "metadata": {
    "collapsed": true
   },
   "outputs": [],
   "source": [
    "#填写需要查找的图片地址\n",
    "img_url = 'https://raw.githubusercontent.com/Tumaorou/face_search/master/group.jpg'"
   ]
  },
  {
   "cell_type": "markdown",
   "metadata": {},
   "source": [
    "<img src=\"https://raw.githubusercontent.com/Tumaorou/face_search/master/group.jpg\" width=\"400\" align=center />"
   ]
  },
  {
   "cell_type": "code",
   "execution_count": null,
   "metadata": {},
   "outputs": [],
   "source": [
    "search_face(API_KEY,SECRET_KEY,img_url)"
   ]
  },
  {
   "cell_type": "code",
   "execution_count": null,
   "metadata": {
    "collapsed": true
   },
   "outputs": [],
   "source": []
  }
 ],
 "metadata": {
  "kernelspec": {
   "display_name": "Python 3",
   "language": "python",
   "name": "python3"
  },
  "language_info": {
   "codemirror_mode": {
    "name": "ipython",
    "version": 3
   },
   "file_extension": ".py",
   "mimetype": "text/x-python",
   "name": "python",
   "nbconvert_exporter": "python",
   "pygments_lexer": "ipython3",
   "version": "3.6.1"
  }
 },
 "nbformat": 4,
 "nbformat_minor": 2
}
